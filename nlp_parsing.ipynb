{
  "nbformat": 4,
  "nbformat_minor": 0,
  "metadata": {
    "colab": {
      "provenance": [],
      "authorship_tag": "ABX9TyMdwXk7QeDt7SRmvGs94PjS",
      "include_colab_link": true
    },
    "kernelspec": {
      "name": "python3",
      "display_name": "Python 3"
    },
    "language_info": {
      "name": "python"
    }
  },
  "cells": [
    {
      "cell_type": "markdown",
      "metadata": {
        "id": "view-in-github",
        "colab_type": "text"
      },
      "source": [
        "<a href=\"https://colab.research.google.com/github/Bougriba/Machine-learning-Models-Implementation/blob/main/nlp_parsing.ipynb\" target=\"_parent\"><img src=\"https://colab.research.google.com/assets/colab-badge.svg\" alt=\"Open In Colab\"/></a>"
      ]
    },
    {
      "cell_type": "code",
      "execution_count": null,
      "metadata": {
        "colab": {
          "base_uri": "https://localhost:8080/"
        },
        "id": "bdEeSz1HrplK",
        "outputId": "1a533525-6702-45c1-cfde-7533f5bd883f"
      },
      "outputs": [
        {
          "output_type": "stream",
          "name": "stderr",
          "text": [
            "/usr/local/lib/python3.8/dist-packages/torch/cuda/__init__.py:497: UserWarning: Can't initialize NVML\n",
            "  warnings.warn(\"Can't initialize NVML\")\n"
          ]
        }
      ],
      "source": [
        "import spacy"
      ]
    },
    {
      "cell_type": "code",
      "source": [
        "import pickle\n",
        "import random"
      ],
      "metadata": {
        "id": "YjgJa4PlrrWb"
      },
      "execution_count": null,
      "outputs": []
    },
    {
      "cell_type": "code",
      "source": [
        "train_data = pickle.load(open('train_data.pkl', 'rb'))\n",
        "train_data[0]"
      ],
      "metadata": {
        "colab": {
          "base_uri": "https://localhost:8080/"
        },
        "id": "Nf71kb-Ar3J2",
        "outputId": "0f17f67f-7157-4f08-8361-affa8639a86f"
      },
      "execution_count": null,
      "outputs": [
        {
          "output_type": "execute_result",
          "data": {
            "text/plain": [
              "('Govardhana K Senior Software Engineer  Bengaluru, Karnataka, Karnataka - Email me on Indeed: indeed.com/r/Govardhana-K/ b2de315d95905b68  Total IT experience 5 Years 6 Months Cloud Lending Solutions INC 4 Month • Salesforce Developer Oracle 5 Years 2 Month • Core Java Developer Languages Core Java, Go Lang Oracle PL-SQL programming, Sales Force Developer with APEX.  Designations & Promotions  Willing to relocate: Anywhere  WORK EXPERIENCE  Senior Software Engineer  Cloud Lending Solutions -  Bangalore, Karnataka -  January 2018 to Present  Present  Senior Consultant  Oracle -  Bangalore, Karnataka -  November 2016 to December 2017  Staff Consultant  Oracle -  Bangalore, Karnataka -  January 2014 to October 2016  Associate Consultant  Oracle -  Bangalore, Karnataka -  November 2012 to December 2013  EDUCATION  B.E in Computer Science Engineering  Adithya Institute of Technology -  Tamil Nadu  September 2008 to June 2012  https://www.indeed.com/r/Govardhana-K/b2de315d95905b68?isid=rex-download&ikw=download-top&co=IN https://www.indeed.com/r/Govardhana-K/b2de315d95905b68?isid=rex-download&ikw=download-top&co=IN   SKILLS  APEX. (Less than 1 year), Data Structures (3 years), FLEXCUBE (5 years), Oracle (5 years), Algorithms (3 years)  LINKS  https://www.linkedin.com/in/govardhana-k-61024944/  ADDITIONAL INFORMATION  Technical Proficiency:  Languages: Core Java, Go Lang, Data Structures & Algorithms, Oracle PL-SQL programming, Sales Force with APEX. Tools: RADTool, Jdeveloper, NetBeans, Eclipse, SQL developer, PL/SQL Developer, WinSCP, Putty Web Technologies: JavaScript, XML, HTML, Webservice  Operating Systems: Linux, Windows Version control system SVN & Git-Hub Databases: Oracle Middleware: Web logic, OC4J Product FLEXCUBE: Oracle FLEXCUBE Versions 10.x, 11.x and 12.x  https://www.linkedin.com/in/govardhana-k-61024944/',\n",
              " {'entities': [(1749, 1755, 'Companies worked at'),\n",
              "   (1696, 1702, 'Companies worked at'),\n",
              "   (1417, 1423, 'Companies worked at'),\n",
              "   (1356, 1793, 'Skills'),\n",
              "   (1209, 1215, 'Companies worked at'),\n",
              "   (1136, 1248, 'Skills'),\n",
              "   (928, 932, 'Graduation Year'),\n",
              "   (858, 889, 'College Name'),\n",
              "   (821, 856, 'Degree'),\n",
              "   (787, 791, 'Graduation Year'),\n",
              "   (744, 750, 'Companies worked at'),\n",
              "   (722, 742, 'Designation'),\n",
              "   (658, 664, 'Companies worked at'),\n",
              "   (640, 656, 'Designation'),\n",
              "   (574, 580, 'Companies worked at'),\n",
              "   (555, 573, 'Designation'),\n",
              "   (470, 493, 'Companies worked at'),\n",
              "   (444, 469, 'Designation'),\n",
              "   (308, 314, 'Companies worked at'),\n",
              "   (234, 240, 'Companies worked at'),\n",
              "   (175, 198, 'Companies worked at'),\n",
              "   (93, 137, 'Email Address'),\n",
              "   (39, 48, 'Location'),\n",
              "   (13, 38, 'Designation'),\n",
              "   (0, 12, 'Name')]})"
            ]
          },
          "metadata": {},
          "execution_count": 3
        }
      ]
    },
    {
      "cell_type": "code",
      "source": [
        "\n",
        "nlp = spacy.blank('en')\n",
        "nlp.add_pipe('ner')\n",
        "ner = nlp.get_pipe('ner')\n",
        "\n",
        "def train_model(train_data):\n",
        "    for _, annotation in train_data:\n",
        "        for ent in annotation['entities']:\n",
        "            ner.add_label(ent[2])\n",
        "\n",
        "    other_pipes = [pipe for pipe in nlp.pipe_names if pipe != 'ner']\n",
        "    with nlp.disable_pipes(*other_pipes):  # only train NER\n",
        "        optimizer = nlp.begin_training()\n",
        "        for itn in range(10):\n",
        "            print(\"Starting iteration \" + str(itn))\n",
        "            random.shuffle(train_data)\n",
        "            losses = {}\n",
        "            index = 0\n",
        "            for text, annotations in train_data:\n",
        "                try:\n",
        "                    nlp.update(\n",
        "                        [text],  # batch of texts\n",
        "                        [annotations],  # batch of annotations\n",
        "                        drop=0.2,  # dropout - make it harder to memorize data\n",
        "                        sgd=optimizer,  # callable to update weights\n",
        "                        losses=losses)\n",
        "                except Exception as e:\n",
        "                    pass\n",
        "\n",
        "            print(losses)"
      ],
      "metadata": {
        "id": "xlwhIBSSseeU"
      },
      "execution_count": null,
      "outputs": []
    },
    {
      "cell_type": "code",
      "source": [
        "train_model(train_data)"
      ],
      "metadata": {
        "colab": {
          "base_uri": "https://localhost:8080/"
        },
        "id": "BzxUsKa6sh_N",
        "outputId": "20845e07-2296-45c3-eb4e-e38e5699ce5e"
      },
      "execution_count": null,
      "outputs": [
        {
          "output_type": "stream",
          "name": "stdout",
          "text": [
            "Starting iteration 0\n",
            "{}\n",
            "Starting iteration 1\n",
            "{}\n",
            "Starting iteration 2\n",
            "{}\n",
            "Starting iteration 3\n",
            "{}\n",
            "Starting iteration 4\n",
            "{}\n",
            "Starting iteration 5\n",
            "{}\n",
            "Starting iteration 6\n",
            "{}\n",
            "Starting iteration 7\n",
            "{}\n",
            "Starting iteration 8\n",
            "{}\n",
            "Starting iteration 9\n",
            "{}\n"
          ]
        }
      ]
    },
    {
      "cell_type": "code",
      "source": [
        "nlp.to_disk('nlp_model')"
      ],
      "metadata": {
        "id": "wCjROXksuY9O"
      },
      "execution_count": null,
      "outputs": []
    },
    {
      "cell_type": "markdown",
      "source": [],
      "metadata": {
        "id": "HKBIBBwPu_fo"
      }
    },
    {
      "cell_type": "code",
      "source": [
        "nlp_model = spacy.load('nlp_model')"
      ],
      "metadata": {
        "id": "deSc99_fujue"
      },
      "execution_count": null,
      "outputs": []
    },
    {
      "cell_type": "code",
      "source": [
        "train_data[0][0]"
      ],
      "metadata": {
        "colab": {
          "base_uri": "https://localhost:8080/",
          "height": 163
        },
        "id": "5gF2_9_vvBti",
        "outputId": "c678d42f-0e02-4457-8a1e-d1c08491f77e"
      },
      "execution_count": null,
      "outputs": [
        {
          "output_type": "execute_result",
          "data": {
            "text/plain": [
              "'Aanirudh Razdan Technical Support Executive - Teleperformance  Jaipur, Rajasthan - Email me on Indeed: indeed.com/r/Aanirudh-Razdan/efbf36cc74cec0e5  To seek an organisation where my skills find ample opportunities for up-gradation of my knowledge and growth of my career and where I can prove myself.  WORK EXPERIENCE  Technical Support Executive  Teleperformance -  Jaipur, Rajasthan -  June 2017 to Present  * Handling query related to Norton products * Resolving query related to the Operating system (Windwos XP/Vista/7/8/8.1/10)  B2X Process  Nokia and Microsoft -  September 2016 to May 2017  handsets * Resolving problems related to Microsoft account * Awarded as best Nesting Executive of the month  EDUCATION  B. Tech  Jaipur Engineering College and Research Center -  Jaipur, Rajasthan  2015  communication and presentation skills  (WAC) in inter Air Force School football championship  2012  Air Force School Jammu -  Jammu, Jammu and Kashmir  Air Foce School Jammu -  Jammu, Jammu and Kashmir  https://www.indeed.com/r/Aanirudh-Razdan/efbf36cc74cec0e5?isid=rex-download&ikw=download-top&co=IN'"
            ],
            "application/vnd.google.colaboratory.intrinsic+json": {
              "type": "string"
            }
          },
          "metadata": {},
          "execution_count": 8
        }
      ]
    },
    {
      "cell_type": "code",
      "source": [
        "doc = nlp_model(train_data[0][0])\n",
        "for ent in doc.ents:\n",
        "    print(f'{ent.label_.upper():{30}}- {ent.text}')"
      ],
      "metadata": {
        "id": "FOf8PsFSuzTo"
      },
      "execution_count": null,
      "outputs": []
    },
    {
      "cell_type": "code",
      "source": [
        "!pip install fitz"
      ],
      "metadata": {
        "colab": {
          "base_uri": "https://localhost:8080/"
        },
        "id": "GsYWHRPRvmwP",
        "outputId": "df7c1027-9c80-4a25-bf70-bd68212725bd"
      },
      "execution_count": null,
      "outputs": [
        {
          "output_type": "stream",
          "name": "stdout",
          "text": [
            "Looking in indexes: https://pypi.org/simple, https://us-python.pkg.dev/colab-wheels/public/simple/\n",
            "Requirement already satisfied: fitz in /usr/local/lib/python3.8/dist-packages (0.0.1.dev2)\n",
            "Requirement already satisfied: nibabel in /usr/local/lib/python3.8/dist-packages (from fitz) (3.0.2)\n",
            "Requirement already satisfied: scipy in /usr/local/lib/python3.8/dist-packages (from fitz) (1.7.3)\n",
            "Requirement already satisfied: nipype in /usr/local/lib/python3.8/dist-packages (from fitz) (1.8.5)\n",
            "Requirement already satisfied: pyxnat in /usr/local/lib/python3.8/dist-packages (from fitz) (1.5)\n",
            "Requirement already satisfied: configobj in /usr/local/lib/python3.8/dist-packages (from fitz) (5.0.8)\n",
            "Requirement already satisfied: httplib2 in /usr/local/lib/python3.8/dist-packages (from fitz) (0.17.4)\n",
            "Requirement already satisfied: pandas in /usr/local/lib/python3.8/dist-packages (from fitz) (1.3.5)\n",
            "Requirement already satisfied: numpy in /usr/local/lib/python3.8/dist-packages (from fitz) (1.21.6)\n",
            "Requirement already satisfied: configparser in /usr/local/lib/python3.8/dist-packages (from fitz) (5.3.0)\n",
            "Requirement already satisfied: six in /usr/local/lib/python3.8/dist-packages (from configobj->fitz) (1.15.0)\n",
            "Requirement already satisfied: click>=6.6.0 in /usr/local/lib/python3.8/dist-packages (from nipype->fitz) (7.1.2)\n",
            "Requirement already satisfied: networkx>=2.0 in /usr/local/lib/python3.8/dist-packages (from nipype->fitz) (3.0)\n",
            "Requirement already satisfied: simplejson>=3.8.0 in /usr/local/lib/python3.8/dist-packages (from nipype->fitz) (3.18.1)\n",
            "Requirement already satisfied: looseversion in /usr/local/lib/python3.8/dist-packages (from nipype->fitz) (1.0.3)\n",
            "Requirement already satisfied: packaging in /usr/local/lib/python3.8/dist-packages (from nipype->fitz) (21.3)\n",
            "Requirement already satisfied: python-dateutil>=2.2 in /usr/local/lib/python3.8/dist-packages (from nipype->fitz) (2.8.2)\n",
            "Requirement already satisfied: prov>=1.5.2 in /usr/local/lib/python3.8/dist-packages (from nipype->fitz) (2.0.0)\n",
            "Requirement already satisfied: etelemetry>=0.2.0 in /usr/local/lib/python3.8/dist-packages (from nipype->fitz) (0.3.0)\n",
            "Requirement already satisfied: filelock>=3.0.0 in /usr/local/lib/python3.8/dist-packages (from nipype->fitz) (3.9.0)\n",
            "Requirement already satisfied: pydot>=1.2.3 in /usr/local/lib/python3.8/dist-packages (from nipype->fitz) (1.3.0)\n",
            "Requirement already satisfied: traits!=5.0,<6.4,>=4.6 in /usr/local/lib/python3.8/dist-packages (from nipype->fitz) (6.3.2)\n",
            "Requirement already satisfied: rdflib>=5.0.0 in /usr/local/lib/python3.8/dist-packages (from nipype->fitz) (6.2.0)\n",
            "Requirement already satisfied: pytz>=2017.3 in /usr/local/lib/python3.8/dist-packages (from pandas->fitz) (2022.7)\n",
            "Requirement already satisfied: future>=0.16 in /usr/local/lib/python3.8/dist-packages (from pyxnat->fitz) (0.16.0)\n",
            "Requirement already satisfied: pathlib>=1.0 in /usr/local/lib/python3.8/dist-packages (from pyxnat->fitz) (1.0.1)\n",
            "Requirement already satisfied: requests>=2.20 in /usr/local/lib/python3.8/dist-packages (from pyxnat->fitz) (2.25.1)\n",
            "Requirement already satisfied: lxml>=4.3 in /usr/local/lib/python3.8/dist-packages (from pyxnat->fitz) (4.9.2)\n",
            "Requirement already satisfied: ci-info>=0.2 in /usr/local/lib/python3.8/dist-packages (from etelemetry>=0.2.0->nipype->fitz) (0.3.0)\n",
            "Requirement already satisfied: pyparsing>=2.1.4 in /usr/local/lib/python3.8/dist-packages (from pydot>=1.2.3->nipype->fitz) (3.0.9)\n",
            "Requirement already satisfied: isodate in /usr/local/lib/python3.8/dist-packages (from rdflib>=5.0.0->nipype->fitz) (0.6.1)\n",
            "Requirement already satisfied: setuptools in /usr/local/lib/python3.8/dist-packages (from rdflib>=5.0.0->nipype->fitz) (57.4.0)\n",
            "Requirement already satisfied: certifi>=2017.4.17 in /usr/local/lib/python3.8/dist-packages (from requests>=2.20->pyxnat->fitz) (2022.12.7)\n",
            "Requirement already satisfied: urllib3<1.27,>=1.21.1 in /usr/local/lib/python3.8/dist-packages (from requests>=2.20->pyxnat->fitz) (1.24.3)\n",
            "Requirement already satisfied: idna<3,>=2.5 in /usr/local/lib/python3.8/dist-packages (from requests>=2.20->pyxnat->fitz) (2.10)\n",
            "Requirement already satisfied: chardet<5,>=3.0.2 in /usr/local/lib/python3.8/dist-packages (from requests>=2.20->pyxnat->fitz) (4.0.0)\n"
          ]
        }
      ]
    },
    {
      "cell_type": "code",
      "source": [
        "!pip uninstall fitz\n",
        "!pip install fitz"
      ],
      "metadata": {
        "colab": {
          "base_uri": "https://localhost:8080/"
        },
        "id": "Y22df0RwvGtn",
        "outputId": "e67c63d7-d214-4d0d-837f-1cd3f8d3af4c"
      },
      "execution_count": null,
      "outputs": [
        {
          "output_type": "stream",
          "name": "stdout",
          "text": [
            "Found existing installation: fitz 0.0.1.dev2\n",
            "Uninstalling fitz-0.0.1.dev2:\n",
            "  Would remove:\n",
            "    /usr/local/bin/fitz\n",
            "    /usr/local/bin/log2design.py\n",
            "    /usr/local/lib/python3.8/dist-packages/.DS_Store\n",
            "    /usr/local/lib/python3.8/dist-packages/fitz-0.0.1.dev2.dist-info/*\n",
            "    /usr/local/lib/python3.8/dist-packages/fitz/*\n",
            "    /usr/local/lib/python3.8/dist-packages/scripts/*\n",
            "Proceed (Y/n)? Y\n",
            "  Successfully uninstalled fitz-0.0.1.dev2\n",
            "Looking in indexes: https://pypi.org/simple, https://us-python.pkg.dev/colab-wheels/public/simple/\n",
            "Collecting fitz\n",
            "  Using cached fitz-0.0.1.dev2-py2.py3-none-any.whl (20 kB)\n",
            "Requirement already satisfied: configparser in /usr/local/lib/python3.8/dist-packages (from fitz) (5.3.0)\n",
            "Requirement already satisfied: nipype in /usr/local/lib/python3.8/dist-packages (from fitz) (1.8.5)\n",
            "Requirement already satisfied: pandas in /usr/local/lib/python3.8/dist-packages (from fitz) (1.3.5)\n",
            "Requirement already satisfied: httplib2 in /usr/local/lib/python3.8/dist-packages (from fitz) (0.17.4)\n",
            "Requirement already satisfied: pyxnat in /usr/local/lib/python3.8/dist-packages (from fitz) (1.5)\n",
            "Requirement already satisfied: numpy in /usr/local/lib/python3.8/dist-packages (from fitz) (1.21.6)\n",
            "Requirement already satisfied: nibabel in /usr/local/lib/python3.8/dist-packages (from fitz) (3.0.2)\n",
            "Requirement already satisfied: scipy in /usr/local/lib/python3.8/dist-packages (from fitz) (1.7.3)\n",
            "Requirement already satisfied: configobj in /usr/local/lib/python3.8/dist-packages (from fitz) (5.0.8)\n",
            "Requirement already satisfied: six in /usr/local/lib/python3.8/dist-packages (from configobj->fitz) (1.15.0)\n",
            "Requirement already satisfied: looseversion in /usr/local/lib/python3.8/dist-packages (from nipype->fitz) (1.0.3)\n",
            "Requirement already satisfied: click>=6.6.0 in /usr/local/lib/python3.8/dist-packages (from nipype->fitz) (7.1.2)\n",
            "Requirement already satisfied: networkx>=2.0 in /usr/local/lib/python3.8/dist-packages (from nipype->fitz) (3.0)\n",
            "Requirement already satisfied: packaging in /usr/local/lib/python3.8/dist-packages (from nipype->fitz) (21.3)\n",
            "Requirement already satisfied: traits!=5.0,<6.4,>=4.6 in /usr/local/lib/python3.8/dist-packages (from nipype->fitz) (6.3.2)\n",
            "Requirement already satisfied: rdflib>=5.0.0 in /usr/local/lib/python3.8/dist-packages (from nipype->fitz) (6.2.0)\n",
            "Requirement already satisfied: simplejson>=3.8.0 in /usr/local/lib/python3.8/dist-packages (from nipype->fitz) (3.18.1)\n",
            "Requirement already satisfied: pydot>=1.2.3 in /usr/local/lib/python3.8/dist-packages (from nipype->fitz) (1.3.0)\n",
            "Requirement already satisfied: etelemetry>=0.2.0 in /usr/local/lib/python3.8/dist-packages (from nipype->fitz) (0.3.0)\n",
            "Requirement already satisfied: python-dateutil>=2.2 in /usr/local/lib/python3.8/dist-packages (from nipype->fitz) (2.8.2)\n",
            "Requirement already satisfied: filelock>=3.0.0 in /usr/local/lib/python3.8/dist-packages (from nipype->fitz) (3.9.0)\n",
            "Requirement already satisfied: prov>=1.5.2 in /usr/local/lib/python3.8/dist-packages (from nipype->fitz) (2.0.0)\n",
            "Requirement already satisfied: pytz>=2017.3 in /usr/local/lib/python3.8/dist-packages (from pandas->fitz) (2022.7)\n",
            "Requirement already satisfied: lxml>=4.3 in /usr/local/lib/python3.8/dist-packages (from pyxnat->fitz) (4.9.2)\n",
            "Requirement already satisfied: requests>=2.20 in /usr/local/lib/python3.8/dist-packages (from pyxnat->fitz) (2.25.1)\n",
            "Requirement already satisfied: future>=0.16 in /usr/local/lib/python3.8/dist-packages (from pyxnat->fitz) (0.16.0)\n",
            "Requirement already satisfied: pathlib>=1.0 in /usr/local/lib/python3.8/dist-packages (from pyxnat->fitz) (1.0.1)\n",
            "Requirement already satisfied: ci-info>=0.2 in /usr/local/lib/python3.8/dist-packages (from etelemetry>=0.2.0->nipype->fitz) (0.3.0)\n",
            "Requirement already satisfied: pyparsing>=2.1.4 in /usr/local/lib/python3.8/dist-packages (from pydot>=1.2.3->nipype->fitz) (3.0.9)\n",
            "Requirement already satisfied: isodate in /usr/local/lib/python3.8/dist-packages (from rdflib>=5.0.0->nipype->fitz) (0.6.1)\n",
            "Requirement already satisfied: setuptools in /usr/local/lib/python3.8/dist-packages (from rdflib>=5.0.0->nipype->fitz) (57.4.0)\n",
            "Requirement already satisfied: certifi>=2017.4.17 in /usr/local/lib/python3.8/dist-packages (from requests>=2.20->pyxnat->fitz) (2022.12.7)\n",
            "Requirement already satisfied: idna<3,>=2.5 in /usr/local/lib/python3.8/dist-packages (from requests>=2.20->pyxnat->fitz) (2.10)\n",
            "Requirement already satisfied: chardet<5,>=3.0.2 in /usr/local/lib/python3.8/dist-packages (from requests>=2.20->pyxnat->fitz) (4.0.0)\n",
            "Requirement already satisfied: urllib3<1.27,>=1.21.1 in /usr/local/lib/python3.8/dist-packages (from requests>=2.20->pyxnat->fitz) (1.24.3)\n",
            "Installing collected packages: fitz\n",
            "Successfully installed fitz-0.0.1.dev2\n"
          ]
        }
      ]
    },
    {
      "cell_type": "code",
      "source": [
        "!pip uninstall fitz"
      ],
      "metadata": {
        "colab": {
          "base_uri": "https://localhost:8080/"
        },
        "id": "3m9CH_GCwYUu",
        "outputId": "3f92052e-686c-42fc-892e-f491445262b1"
      },
      "execution_count": null,
      "outputs": [
        {
          "output_type": "stream",
          "name": "stdout",
          "text": [
            "Found existing installation: fitz 0.0.1.dev2\n",
            "Uninstalling fitz-0.0.1.dev2:\n",
            "  Would remove:\n",
            "    /usr/local/bin/fitz\n",
            "    /usr/local/bin/log2design.py\n",
            "    /usr/local/lib/python3.8/dist-packages/.DS_Store\n",
            "    /usr/local/lib/python3.8/dist-packages/fitz-0.0.1.dev2.dist-info/*\n",
            "    /usr/local/lib/python3.8/dist-packages/fitz/*\n",
            "    /usr/local/lib/python3.8/dist-packages/scripts/*\n",
            "Proceed (Y/n)? y\n",
            "  Successfully uninstalled fitz-0.0.1.dev2\n"
          ]
        }
      ]
    },
    {
      "cell_type": "code",
      "source": [
        "!pip install fitz==0.0.1dev2"
      ],
      "metadata": {
        "colab": {
          "base_uri": "https://localhost:8080/"
        },
        "id": "SJws5-mowg12",
        "outputId": "2723f38f-43ba-427f-e8ab-f4089c2f6827"
      },
      "execution_count": null,
      "outputs": [
        {
          "output_type": "stream",
          "name": "stdout",
          "text": [
            "Looking in indexes: https://pypi.org/simple, https://us-python.pkg.dev/colab-wheels/public/simple/\n",
            "Collecting fitz==0.0.1dev2\n",
            "  Using cached fitz-0.0.1.dev2-py2.py3-none-any.whl (20 kB)\n",
            "Requirement already satisfied: pyxnat in /usr/local/lib/python3.8/dist-packages (from fitz==0.0.1dev2) (1.5)\n",
            "Requirement already satisfied: scipy in /usr/local/lib/python3.8/dist-packages (from fitz==0.0.1dev2) (1.7.3)\n",
            "Requirement already satisfied: nibabel in /usr/local/lib/python3.8/dist-packages (from fitz==0.0.1dev2) (3.0.2)\n",
            "Requirement already satisfied: pandas in /usr/local/lib/python3.8/dist-packages (from fitz==0.0.1dev2) (1.3.5)\n",
            "Requirement already satisfied: httplib2 in /usr/local/lib/python3.8/dist-packages (from fitz==0.0.1dev2) (0.17.4)\n",
            "Requirement already satisfied: nipype in /usr/local/lib/python3.8/dist-packages (from fitz==0.0.1dev2) (1.8.5)\n",
            "Requirement already satisfied: configobj in /usr/local/lib/python3.8/dist-packages (from fitz==0.0.1dev2) (5.0.8)\n",
            "Requirement already satisfied: configparser in /usr/local/lib/python3.8/dist-packages (from fitz==0.0.1dev2) (5.3.0)\n",
            "Requirement already satisfied: numpy in /usr/local/lib/python3.8/dist-packages (from fitz==0.0.1dev2) (1.21.6)\n",
            "Requirement already satisfied: six in /usr/local/lib/python3.8/dist-packages (from configobj->fitz==0.0.1dev2) (1.15.0)\n",
            "Requirement already satisfied: pydot>=1.2.3 in /usr/local/lib/python3.8/dist-packages (from nipype->fitz==0.0.1dev2) (1.3.0)\n",
            "Requirement already satisfied: networkx>=2.0 in /usr/local/lib/python3.8/dist-packages (from nipype->fitz==0.0.1dev2) (3.0)\n",
            "Requirement already satisfied: simplejson>=3.8.0 in /usr/local/lib/python3.8/dist-packages (from nipype->fitz==0.0.1dev2) (3.18.1)\n",
            "Requirement already satisfied: rdflib>=5.0.0 in /usr/local/lib/python3.8/dist-packages (from nipype->fitz==0.0.1dev2) (6.2.0)\n",
            "Requirement already satisfied: filelock>=3.0.0 in /usr/local/lib/python3.8/dist-packages (from nipype->fitz==0.0.1dev2) (3.9.0)\n",
            "Requirement already satisfied: etelemetry>=0.2.0 in /usr/local/lib/python3.8/dist-packages (from nipype->fitz==0.0.1dev2) (0.3.0)\n",
            "Requirement already satisfied: prov>=1.5.2 in /usr/local/lib/python3.8/dist-packages (from nipype->fitz==0.0.1dev2) (2.0.0)\n",
            "Requirement already satisfied: traits!=5.0,<6.4,>=4.6 in /usr/local/lib/python3.8/dist-packages (from nipype->fitz==0.0.1dev2) (6.3.2)\n",
            "Requirement already satisfied: packaging in /usr/local/lib/python3.8/dist-packages (from nipype->fitz==0.0.1dev2) (21.3)\n",
            "Requirement already satisfied: looseversion in /usr/local/lib/python3.8/dist-packages (from nipype->fitz==0.0.1dev2) (1.0.3)\n",
            "Requirement already satisfied: click>=6.6.0 in /usr/local/lib/python3.8/dist-packages (from nipype->fitz==0.0.1dev2) (7.1.2)\n",
            "Requirement already satisfied: python-dateutil>=2.2 in /usr/local/lib/python3.8/dist-packages (from nipype->fitz==0.0.1dev2) (2.8.2)\n",
            "Requirement already satisfied: pytz>=2017.3 in /usr/local/lib/python3.8/dist-packages (from pandas->fitz==0.0.1dev2) (2022.7)\n",
            "Requirement already satisfied: requests>=2.20 in /usr/local/lib/python3.8/dist-packages (from pyxnat->fitz==0.0.1dev2) (2.25.1)\n",
            "Requirement already satisfied: future>=0.16 in /usr/local/lib/python3.8/dist-packages (from pyxnat->fitz==0.0.1dev2) (0.16.0)\n",
            "Requirement already satisfied: lxml>=4.3 in /usr/local/lib/python3.8/dist-packages (from pyxnat->fitz==0.0.1dev2) (4.9.2)\n",
            "Requirement already satisfied: pathlib>=1.0 in /usr/local/lib/python3.8/dist-packages (from pyxnat->fitz==0.0.1dev2) (1.0.1)\n",
            "Requirement already satisfied: ci-info>=0.2 in /usr/local/lib/python3.8/dist-packages (from etelemetry>=0.2.0->nipype->fitz==0.0.1dev2) (0.3.0)\n",
            "Requirement already satisfied: pyparsing>=2.1.4 in /usr/local/lib/python3.8/dist-packages (from pydot>=1.2.3->nipype->fitz==0.0.1dev2) (3.0.9)\n",
            "Requirement already satisfied: setuptools in /usr/local/lib/python3.8/dist-packages (from rdflib>=5.0.0->nipype->fitz==0.0.1dev2) (57.4.0)\n",
            "Requirement already satisfied: isodate in /usr/local/lib/python3.8/dist-packages (from rdflib>=5.0.0->nipype->fitz==0.0.1dev2) (0.6.1)\n",
            "Requirement already satisfied: urllib3<1.27,>=1.21.1 in /usr/local/lib/python3.8/dist-packages (from requests>=2.20->pyxnat->fitz==0.0.1dev2) (1.24.3)\n",
            "Requirement already satisfied: chardet<5,>=3.0.2 in /usr/local/lib/python3.8/dist-packages (from requests>=2.20->pyxnat->fitz==0.0.1dev2) (4.0.0)\n",
            "Requirement already satisfied: certifi>=2017.4.17 in /usr/local/lib/python3.8/dist-packages (from requests>=2.20->pyxnat->fitz==0.0.1dev2) (2022.12.7)\n",
            "Requirement already satisfied: idna<3,>=2.5 in /usr/local/lib/python3.8/dist-packages (from requests>=2.20->pyxnat->fitz==0.0.1dev2) (2.10)\n",
            "Installing collected packages: fitz\n",
            "Successfully installed fitz-0.0.1.dev2\n"
          ]
        }
      ]
    },
    {
      "cell_type": "code",
      "source": [
        "!pip install PyPDF2"
      ],
      "metadata": {
        "colab": {
          "base_uri": "https://localhost:8080/"
        },
        "id": "_P5Ypmvnwk5o",
        "outputId": "c9866902-69c4-45db-d32d-9c4f34cf1483"
      },
      "execution_count": null,
      "outputs": [
        {
          "output_type": "stream",
          "name": "stdout",
          "text": [
            "Looking in indexes: https://pypi.org/simple, https://us-python.pkg.dev/colab-wheels/public/simple/\n",
            "Collecting PyPDF2\n",
            "  Downloading pypdf2-3.0.1-py3-none-any.whl (232 kB)\n",
            "\u001b[2K     \u001b[90m━━━━━━━━━━━━━━━━━━━━━━━━━━━━━━━━━━━━━━━\u001b[0m \u001b[32m232.6/232.6 KB\u001b[0m \u001b[31m5.0 MB/s\u001b[0m eta \u001b[36m0:00:00\u001b[0m\n",
            "\u001b[?25hRequirement already satisfied: typing_extensions>=3.10.0.0 in /usr/local/lib/python3.8/dist-packages (from PyPDF2) (4.4.0)\n",
            "Installing collected packages: PyPDF2\n",
            "Successfully installed PyPDF2-3.0.1\n"
          ]
        }
      ]
    },
    {
      "cell_type": "code",
      "source": [
        "import PyPDF2\n",
        "\n",
        "fname = 'cv.pdf'\n",
        "pdf_file = open(fname, 'rb')\n",
        "pdf_reader = PyPDF2.PdfReader(pdf_file)\n",
        "text = \"\"\n",
        "\n",
        "for page_num in range(len(pdf_reader.pages)):\n",
        "    page = pdf_reader.pages[page_num]\n",
        "    text += page.extract_text()\n",
        "\n",
        "print(text)"
      ],
      "metadata": {
        "colab": {
          "base_uri": "https://localhost:8080/"
        },
        "id": "_DJ1gXr0xP1k",
        "outputId": "cb1a861d-6494-4d05-e288-f11901ad2a87"
      },
      "execution_count": null,
      "outputs": [
        {
          "output_type": "stream",
          "name": "stdout",
          "text": [
            " \n",
            " \n",
            "–– \n",
            " \n",
            " \n",
            "–– \n",
            " \n",
            "––– \n",
            " \n",
            " \n",
            " \n",
            " \n",
            " \n",
            " \n",
            " \n",
            " \n",
            " \n",
            " \n",
            " \n",
            " \n",
            " \n",
            " \n",
            " \n",
            " \n",
            " \n",
            "Compétences et capacités  \n",
            "©AZURIUS – Modelos -de-curriculum.com   \n",
            " \n",
            " \n",
            " \n",
            " \n",
            " \n",
            " \n",
            " \n",
            " \n",
            " \n",
            " \n",
            " \n",
            " \n",
            " \n",
            " \n",
            "          \n",
            " \n",
            "        \n",
            " \n",
            " \n",
            "           \n",
            "      \n",
            "      \n",
            "      \n",
            "      \n",
            "      \n",
            "      \n",
            "      \n",
            "      \n",
            "      \n",
            "      \n",
            "      \n",
            "       \n",
            "Study in progress , 2020 – 2023 \n",
            " \n",
            "- bachelor’s degree in computer science  - ISI \n",
            "Degree obtained , 2016 – 2020 \n",
            " \n",
            "-High School Farhat Hachad Rades -\n",
            "Baccalaureate  degree in computer science  \n",
            "WEB APPLICATION:  \n",
            "➢ Web Application for vehicle leasing  \n",
            "o HTML 5, CSS , JS, PHP, MYSQL  \n",
            " \n",
            "➢ Web Application for  hotel booking  \n",
            "o HTML5, CSS,  JS, PHP, MYSQL  \n",
            " \n",
            "TAQUIN GAME:  \n",
            "➢ Development of a Taquin  game  \n",
            "o PYTHON  \n",
            " \n",
            " \n",
            " \n",
            " Computer Science Student  \n",
            "CONTACT  \n",
            " Bougriba Mahdi  \n",
            "I am extremely motivated to improve myself \n",
            "professionally, looking for an end of studies \n",
            "internship to develop my qualities and to learn \n",
            "more about this field.  \n",
            "• Gaming  \n",
            "• Sport  \n",
            "• Competitive programming  \n",
            "•  \n",
            "    \n",
            "    \n",
            "  \n",
            " \n",
            " Hobb ies About me   \n",
            "     \n",
            "Phone : (+216) 54  970 651 \n",
            " \n",
            "Email : mahdibougriba4@gmail.com  \n",
            " \n",
            "LinkedIn : Bougriba Mahdi  \n",
            " \n",
            "Github : github.com/Bougriba  \n",
            " \n",
            "Codeforces : Mahdi_Bougriba_30  \n",
            " \n",
            "Skills  \n",
            "• Python.  \n",
            "• Java.  \n",
            "• C, C+ +.  \n",
            "• Pascal.  \n",
            "• Solidity ( basics ) . \n",
            "• UML.  \n",
            "• HTML5 . \n",
            "• CSS. \n",
            "• bootstrap  \n",
            "• JS.  \n",
            "• MySQL .  \n",
            "• PHP.  \n",
            "• Oracle PL/SQL . \n",
            " \n",
            " \n",
            " \n",
            " \n",
            " \n",
            " \n",
            " \n",
            " \n",
            " \n",
            " 2020 /present:  Membre Freeways  – ISI \n",
            "• Problem solving department : \n",
            "training in the competitive   \n",
            "programming field and playing in  \n",
            "some contests  \n",
            " \n",
            " \n",
            " Social Experience  \n",
            " Deeplearning.Ai  \n",
            "➢ Supervised Machine Learning:  \n",
            "Regression and Classification  \n",
            " \n",
            "➢ Advanced Algorithms  \n",
            " \n",
            "➢ Unsupervised Learning, Recommenders,  \n",
            "Reinforcement Learning  \n",
            " \n",
            "Coursera  \n",
            "➢ Smart Contracts  \n",
            " \n",
            "Udemy  \n",
            "➢ Object Oriented Programming with \n",
            "Java  \n",
            " \n",
            "➢ Python in practise:15 Projects to \n",
            "master Python  \n",
            " \n",
            " Project  Education  \n",
            "Certification  \n",
            "• Arabic  \n",
            "• English  \n",
            "• French  \n",
            " Languages  \n"
          ]
        }
      ]
    },
    {
      "cell_type": "code",
      "source": [
        "doc = nlp_model(text)\n",
        "for ent in doc.ents:\n",
        "    print(ent.text)"
      ],
      "metadata": {
        "id": "Ypcs9Y-sxtWa"
      },
      "execution_count": null,
      "outputs": []
    },
    {
      "cell_type": "code",
      "source": [
        "!python -m spacy download en_core_web_sm"
      ],
      "metadata": {
        "colab": {
          "base_uri": "https://localhost:8080/"
        },
        "id": "j7QuRDiBySB7",
        "outputId": "f378ce4d-5d76-429c-e545-a6a767433af5"
      },
      "execution_count": null,
      "outputs": [
        {
          "output_type": "stream",
          "name": "stdout",
          "text": [
            "/usr/local/lib/python3.8/dist-packages/torch/cuda/__init__.py:497: UserWarning: Can't initialize NVML\n",
            "  warnings.warn(\"Can't initialize NVML\")\n",
            "2023-02-02 01:41:32.364180: E tensorflow/stream_executor/cuda/cuda_driver.cc:271] failed call to cuInit: CUDA_ERROR_NO_DEVICE: no CUDA-capable device is detected\n",
            "Looking in indexes: https://pypi.org/simple, https://us-python.pkg.dev/colab-wheels/public/simple/\n",
            "Collecting en-core-web-sm==3.4.1\n",
            "  Downloading https://github.com/explosion/spacy-models/releases/download/en_core_web_sm-3.4.1/en_core_web_sm-3.4.1-py3-none-any.whl (12.8 MB)\n",
            "\u001b[2K     \u001b[90m━━━━━━━━━━━━━━━━━━━━━━━━━━━━━━━━━━━━━━━━\u001b[0m \u001b[32m12.8/12.8 MB\u001b[0m \u001b[31m30.5 MB/s\u001b[0m eta \u001b[36m0:00:00\u001b[0m\n",
            "\u001b[?25hRequirement already satisfied: spacy<3.5.0,>=3.4.0 in /usr/local/lib/python3.8/dist-packages (from en-core-web-sm==3.4.1) (3.4.4)\n",
            "Requirement already satisfied: packaging>=20.0 in /usr/local/lib/python3.8/dist-packages (from spacy<3.5.0,>=3.4.0->en-core-web-sm==3.4.1) (21.3)\n",
            "Requirement already satisfied: catalogue<2.1.0,>=2.0.6 in /usr/local/lib/python3.8/dist-packages (from spacy<3.5.0,>=3.4.0->en-core-web-sm==3.4.1) (2.0.8)\n",
            "Requirement already satisfied: smart-open<7.0.0,>=5.2.1 in /usr/local/lib/python3.8/dist-packages (from spacy<3.5.0,>=3.4.0->en-core-web-sm==3.4.1) (6.3.0)\n",
            "Requirement already satisfied: spacy-legacy<3.1.0,>=3.0.10 in /usr/local/lib/python3.8/dist-packages (from spacy<3.5.0,>=3.4.0->en-core-web-sm==3.4.1) (3.0.11)\n",
            "Requirement already satisfied: tqdm<5.0.0,>=4.38.0 in /usr/local/lib/python3.8/dist-packages (from spacy<3.5.0,>=3.4.0->en-core-web-sm==3.4.1) (4.64.1)\n",
            "Requirement already satisfied: pathy>=0.3.5 in /usr/local/lib/python3.8/dist-packages (from spacy<3.5.0,>=3.4.0->en-core-web-sm==3.4.1) (0.10.1)\n",
            "Requirement already satisfied: cymem<2.1.0,>=2.0.2 in /usr/local/lib/python3.8/dist-packages (from spacy<3.5.0,>=3.4.0->en-core-web-sm==3.4.1) (2.0.7)\n",
            "Requirement already satisfied: thinc<8.2.0,>=8.1.0 in /usr/local/lib/python3.8/dist-packages (from spacy<3.5.0,>=3.4.0->en-core-web-sm==3.4.1) (8.1.6)\n",
            "Requirement already satisfied: preshed<3.1.0,>=3.0.2 in /usr/local/lib/python3.8/dist-packages (from spacy<3.5.0,>=3.4.0->en-core-web-sm==3.4.1) (3.0.8)\n",
            "Requirement already satisfied: spacy-loggers<2.0.0,>=1.0.0 in /usr/local/lib/python3.8/dist-packages (from spacy<3.5.0,>=3.4.0->en-core-web-sm==3.4.1) (1.0.4)\n",
            "Requirement already satisfied: jinja2 in /usr/local/lib/python3.8/dist-packages (from spacy<3.5.0,>=3.4.0->en-core-web-sm==3.4.1) (2.11.3)\n",
            "Requirement already satisfied: pydantic!=1.8,!=1.8.1,<1.11.0,>=1.7.4 in /usr/local/lib/python3.8/dist-packages (from spacy<3.5.0,>=3.4.0->en-core-web-sm==3.4.1) (1.10.4)\n",
            "Requirement already satisfied: numpy>=1.15.0 in /usr/local/lib/python3.8/dist-packages (from spacy<3.5.0,>=3.4.0->en-core-web-sm==3.4.1) (1.21.6)\n",
            "Requirement already satisfied: wasabi<1.1.0,>=0.9.1 in /usr/local/lib/python3.8/dist-packages (from spacy<3.5.0,>=3.4.0->en-core-web-sm==3.4.1) (0.10.1)\n",
            "Requirement already satisfied: setuptools in /usr/local/lib/python3.8/dist-packages (from spacy<3.5.0,>=3.4.0->en-core-web-sm==3.4.1) (57.4.0)\n",
            "Requirement already satisfied: srsly<3.0.0,>=2.4.3 in /usr/local/lib/python3.8/dist-packages (from spacy<3.5.0,>=3.4.0->en-core-web-sm==3.4.1) (2.4.5)\n",
            "Requirement already satisfied: requests<3.0.0,>=2.13.0 in /usr/local/lib/python3.8/dist-packages (from spacy<3.5.0,>=3.4.0->en-core-web-sm==3.4.1) (2.25.1)\n",
            "Requirement already satisfied: typer<0.8.0,>=0.3.0 in /usr/local/lib/python3.8/dist-packages (from spacy<3.5.0,>=3.4.0->en-core-web-sm==3.4.1) (0.7.0)\n",
            "Requirement already satisfied: murmurhash<1.1.0,>=0.28.0 in /usr/local/lib/python3.8/dist-packages (from spacy<3.5.0,>=3.4.0->en-core-web-sm==3.4.1) (1.0.9)\n",
            "Requirement already satisfied: langcodes<4.0.0,>=3.2.0 in /usr/local/lib/python3.8/dist-packages (from spacy<3.5.0,>=3.4.0->en-core-web-sm==3.4.1) (3.3.0)\n",
            "Requirement already satisfied: pyparsing!=3.0.5,>=2.0.2 in /usr/local/lib/python3.8/dist-packages (from packaging>=20.0->spacy<3.5.0,>=3.4.0->en-core-web-sm==3.4.1) (3.0.9)\n",
            "Requirement already satisfied: typing-extensions>=4.2.0 in /usr/local/lib/python3.8/dist-packages (from pydantic!=1.8,!=1.8.1,<1.11.0,>=1.7.4->spacy<3.5.0,>=3.4.0->en-core-web-sm==3.4.1) (4.4.0)\n",
            "Requirement already satisfied: idna<3,>=2.5 in /usr/local/lib/python3.8/dist-packages (from requests<3.0.0,>=2.13.0->spacy<3.5.0,>=3.4.0->en-core-web-sm==3.4.1) (2.10)\n",
            "Requirement already satisfied: chardet<5,>=3.0.2 in /usr/local/lib/python3.8/dist-packages (from requests<3.0.0,>=2.13.0->spacy<3.5.0,>=3.4.0->en-core-web-sm==3.4.1) (4.0.0)\n",
            "Requirement already satisfied: urllib3<1.27,>=1.21.1 in /usr/local/lib/python3.8/dist-packages (from requests<3.0.0,>=2.13.0->spacy<3.5.0,>=3.4.0->en-core-web-sm==3.4.1) (1.24.3)\n",
            "Requirement already satisfied: certifi>=2017.4.17 in /usr/local/lib/python3.8/dist-packages (from requests<3.0.0,>=2.13.0->spacy<3.5.0,>=3.4.0->en-core-web-sm==3.4.1) (2022.12.7)\n",
            "Requirement already satisfied: confection<1.0.0,>=0.0.1 in /usr/local/lib/python3.8/dist-packages (from thinc<8.2.0,>=8.1.0->spacy<3.5.0,>=3.4.0->en-core-web-sm==3.4.1) (0.0.3)\n",
            "Requirement already satisfied: blis<0.8.0,>=0.7.8 in /usr/local/lib/python3.8/dist-packages (from thinc<8.2.0,>=8.1.0->spacy<3.5.0,>=3.4.0->en-core-web-sm==3.4.1) (0.7.9)\n",
            "Requirement already satisfied: click<9.0.0,>=7.1.1 in /usr/local/lib/python3.8/dist-packages (from typer<0.8.0,>=0.3.0->spacy<3.5.0,>=3.4.0->en-core-web-sm==3.4.1) (7.1.2)\n",
            "Requirement already satisfied: MarkupSafe>=0.23 in /usr/local/lib/python3.8/dist-packages (from jinja2->spacy<3.5.0,>=3.4.0->en-core-web-sm==3.4.1) (2.0.1)\n",
            "\u001b[38;5;2m✔ Download and installation successful\u001b[0m\n",
            "You can now load the package via spacy.load('en_core_web_sm')\n"
          ]
        }
      ]
    },
    {
      "cell_type": "code",
      "source": [
        "import spacy\n",
        "\n",
        "nlp_model = spacy.load(\"en_core_web_sm\")"
      ],
      "metadata": {
        "id": "ddH7RGd5yWf_"
      },
      "execution_count": null,
      "outputs": []
    },
    {
      "cell_type": "code",
      "source": [
        "doc = nlp_model(text)\n",
        "for ent in doc.ents:\n",
        "    print(f'{ent.label_.upper():{30}}- {ent.text}')"
      ],
      "metadata": {
        "id": "dYRj2H2ByY9Y"
      },
      "execution_count": null,
      "outputs": []
    },
    {
      "cell_type": "code",
      "source": [
        "doc = nlp_model(text)\n",
        "for ent in doc.ents:\n",
        "    print(f'{ent.label_.upper():{30}}- {ent.text}')"
      ],
      "metadata": {
        "colab": {
          "base_uri": "https://localhost:8080/"
        },
        "id": "_H8zJzFvyftF",
        "outputId": "d49ff55d-66da-4aff-ea25-9cdc1fe702ec"
      },
      "execution_count": null,
      "outputs": [
        {
          "output_type": "stream",
          "name": "stdout",
          "text": [
            "ORG                           - AZURIUS\n",
            "DATE                          - 2020\n",
            "CARDINAL                      - 2023\n",
            "ORG                           - ISI\n",
            "DATE                          - 2016\n",
            "DATE                          - 2020\n",
            "ORG                           - School Farhat Hachad Rades\n",
            "PRODUCT                       - Baccalaureate\n",
            "ORG                           - HTML 5,\n",
            "ORG                           - CSS\n",
            "ORG                           - JS\n",
            "ORG                           - PHP\n",
            "ORG                           - MYSQL\n",
            "NORP                          - HTML5\n",
            "ORG                           - CSS\n",
            "ORG                           - JS\n",
            "ORG                           - PHP\n",
            "ORG                           - PYTHON\n",
            "NORP                          - Bougriba Mahdi\n",
            "WORK_OF_ART                   - • Gaming  \n",
            "• Sport  \n",
            "• Competitive programming  \n",
            "•  \n",
            "    \n",
            "    \n",
            "  \n",
            " \n",
            " Hobb\n",
            "CARDINAL                      - 54\n",
            "CARDINAL                      - 970 651\n",
            "ORG                           - Bougriba Mahdi\n",
            "PERSON                        - Github\n",
            "ORG                           - Skills  \n",
            "• Python\n",
            "ORG                           - UML\n",
            "NORP                          - HTML5\n",
            "ORG                           - CSS\n",
            "WORK_OF_ART                   - • Oracle PL/SQL\n",
            "DATE                          - 2020\n",
            "WORK_OF_ART                   - Membre Freeways\n",
            "ORG                           - ISI\n",
            "ORG                           - • Problem\n",
            "PERSON                        - Machine Learning\n",
            "WORK_OF_ART                   - Regression and Classification\n",
            "ORG                           - Unsupervised Learning, Recommenders\n",
            "ORG                           - Smart Contracts\n",
            "ORG                           - Object Oriented Programming\n",
            "NORP                          - French\n"
          ]
        }
      ]
    }
  ]
}